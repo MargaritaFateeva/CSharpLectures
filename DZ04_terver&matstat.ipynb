{
  "nbformat": 4,
  "nbformat_minor": 0,
  "metadata": {
    "colab": {
      "provenance": [],
      "authorship_tag": "ABX9TyOvAb7cKy2S3SKuebx/nGZF",
      "include_colab_link": true
    },
    "kernelspec": {
      "name": "python3",
      "display_name": "Python 3"
    },
    "language_info": {
      "name": "python"
    }
  },
  "cells": [
    {
      "cell_type": "markdown",
      "metadata": {
        "id": "view-in-github",
        "colab_type": "text"
      },
      "source": [
        "<a href=\"https://colab.research.google.com/github/MargaritaFateeva/CSharpLectures/blob/main/DZ04_terver%26matstat.ipynb\" target=\"_parent\"><img src=\"https://colab.research.google.com/assets/colab-badge.svg\" alt=\"Open In Colab\"/></a>"
      ]
    },
    {
      "cell_type": "code",
      "source": [
        "from scipy import stats"
      ],
      "metadata": {
        "id": "XVk_8v8ftGz4"
      },
      "execution_count": 11,
      "outputs": []
    },
    {
      "cell_type": "markdown",
      "source": [
        "**Урок 4. Непрерывная случайная величина**\n",
        "\n",
        "**Задача 1.** Случайная непрерывная величина A имеет равномерное распределение на\n",
        "промежутке (200, 800].\n",
        "Найдите ее среднее значение и дисперсию."
      ],
      "metadata": {
        "id": "aIb7c4g8sCeG"
      }
    },
    {
      "cell_type": "markdown",
      "source": [
        "РЕШЕНИЕ:"
      ],
      "metadata": {
        "id": "Kinv7-Go8uVW"
      }
    },
    {
      "cell_type": "markdown",
      "source": [
        "A~Unif(200,800]\n",
        "m=a+b/2=(800-200)/2=300"
      ],
      "metadata": {
        "id": "XTiKyYpj8zBk"
      }
    },
    {
      "cell_type": "code",
      "execution_count": null,
      "metadata": {
        "id": "f45xv9dwrvl0"
      },
      "outputs": [],
      "source": []
    },
    {
      "cell_type": "markdown",
      "source": [
        "**Задача 2.** О случайной непрерывной равномерно распределенной величине B известно, что ее\n",
        "дисперсия равна 0.2.\n",
        "Можно ли найти правую границу величины B и ее среднее значение зная, что левая\n",
        "граница равна 0.5?\n",
        "Если да, найдите ее."
      ],
      "metadata": {
        "id": "XISW3O1GsIJ5"
      }
    },
    {
      "cell_type": "code",
      "source": [],
      "metadata": {
        "id": "4F_Os5zJsLNK"
      },
      "execution_count": null,
      "outputs": []
    },
    {
      "cell_type": "markdown",
      "source": [
        "**Задача 3.** Непрерывная случайная величина X распределена нормально и задана плотностью\n",
        "распределения\n",
        "f(x) = (1 / (4 * sqrt(2pi))) * exp((-(x+2)**2) / 32)\n",
        "Найдите:\n",
        "а). M(X)\n",
        "б). D(X)\n",
        "в). std(X) (среднее квадратичное отклонение)"
      ],
      "metadata": {
        "id": "pez5lYbfsLp0"
      }
    },
    {
      "cell_type": "code",
      "source": [],
      "metadata": {
        "id": "TcLiGNl6sPGS"
      },
      "execution_count": null,
      "outputs": []
    },
    {
      "cell_type": "markdown",
      "source": [
        "**Задача 4.** Рост взрослого населения города X имеет нормальное распределение, причем, средний рост равен 174 см, а среднее квадратическое отклонение равно 8 см. посчитайте, какова вероятность того, что случайным образом выбранный взрослый человек имеет рост:\n",
        "1. больше 182 см?\n",
        "2. больше 190 см?\n",
        "3. от 166 см до 190 см?\n",
        "4. от 166 см до 182 см?\n",
        "5. от 158 см до 190 см?\n",
        "6. не выше 150 см или не ниже 190 см?\n",
        "7. не выше 150 см или не ниже 198 см?\n",
        "8. ниже 166 см?\n",
        "\n",
        "Задачу можно решить двумя способами: без использования сторонних библиотек (numpy, scipy, pandas и пр.), а затем проверить себя с помощью встроенных функций"
      ],
      "metadata": {
        "id": "BreI0m5lsQ5u"
      }
    },
    {
      "cell_type": "markdown",
      "source": [
        "РЕШЕНИЕ:"
      ],
      "metadata": {
        "id": "v4ZLYLJs1RmI"
      }
    },
    {
      "cell_type": "markdown",
      "source": [
        "1 больше 182 см?\n",
        "\n",
        "F(x)~N(174,64)\n",
        "\n",
        "F(x>182)=1-F(x<182)\n",
        "\n",
        "z=(x-m)/q = (182-174)/8= 1\n",
        "\n",
        "F(x<182)=0,84134\n",
        "\n",
        "1-F(x<182)=1-0,84134 = 0,15866\n",
        "\n",
        "верно"
      ],
      "metadata": {
        "id": "slnrshSsvvlB"
      }
    },
    {
      "cell_type": "code",
      "source": [
        "1-stats.norm.cdf(182, loc=174, scale=8)"
      ],
      "metadata": {
        "colab": {
          "base_uri": "https://localhost:8080/"
        },
        "id": "TgOD5ky4slIS",
        "outputId": "17d5637b-504e-4352-aea7-4fa3248829a7"
      },
      "execution_count": 2,
      "outputs": [
        {
          "output_type": "execute_result",
          "data": {
            "text/plain": [
              "0.15865525393145707"
            ]
          },
          "metadata": {},
          "execution_count": 2
        }
      ]
    },
    {
      "cell_type": "markdown",
      "source": [
        "2 больше 190 см?\n",
        "\n",
        "F(x)~N(174,64)\n",
        "\n",
        "F(x>190)=1-F(x<190)\n",
        "\n",
        "z=(x-m)/q = (190-174)/8= 2\n",
        "\n",
        "F(x<190)=0,97725\n",
        "\n",
        "1-F(x<190)=1-0,97725 = 0,02275\n",
        "\n",
        "верно"
      ],
      "metadata": {
        "id": "bn3XW24Txv10"
      }
    },
    {
      "cell_type": "code",
      "source": [
        "1-stats.norm.cdf(190, loc=174, scale=8)"
      ],
      "metadata": {
        "colab": {
          "base_uri": "https://localhost:8080/"
        },
        "id": "dXaiQV3TtFi6",
        "outputId": "5e2a6995-c333-4ef7-d4be-a96122406dd9"
      },
      "execution_count": 3,
      "outputs": [
        {
          "output_type": "execute_result",
          "data": {
            "text/plain": [
              "0.02275013194817921"
            ]
          },
          "metadata": {},
          "execution_count": 3
        }
      ]
    },
    {
      "cell_type": "markdown",
      "source": [
        "3 от 166 см до 190 см?\n",
        "\n",
        "F(x)~N(174,64)\n",
        "\n",
        "F(x<190)-F(x<166)\n",
        "\n",
        "z1=(x-m)/q = (190-174)/8= 2\n",
        "\n",
        "z2=(x-m)/q = (166-174)/8= -1\n",
        "\n",
        "F(x<190)-F(x<166)= 0,97725-0,15866=0,81859\n",
        "\n",
        "верно"
      ],
      "metadata": {
        "id": "fDSfRtceyV5_"
      }
    },
    {
      "cell_type": "code",
      "source": [
        "stats.norm.cdf(190, loc=174, scale=8)-stats.norm.cdf(166, loc=174, scale=8)"
      ],
      "metadata": {
        "colab": {
          "base_uri": "https://localhost:8080/"
        },
        "id": "ipzbCqTWuFEs",
        "outputId": "bf9742d7-8624-432d-a817-b42f30efe14b"
      },
      "execution_count": 4,
      "outputs": [
        {
          "output_type": "execute_result",
          "data": {
            "text/plain": [
              "0.8185946141203637"
            ]
          },
          "metadata": {},
          "execution_count": 4
        }
      ]
    },
    {
      "cell_type": "markdown",
      "source": [
        "4 от 166 см до 182 см?\n",
        "\n",
        "F(x)~N(174,64)\n",
        "\n",
        "F(x<182)-F(x<166)\n",
        "\n",
        "z1=(x-m)/q = (182-174)/8= 1\n",
        "\n",
        "z2=(x-m)/q = (166-174)/8= -1\n",
        "\n",
        "F(x<182)-F(x<166)= 0,84134-0,15866=0,68268\n",
        "\n",
        "верно"
      ],
      "metadata": {
        "id": "5PCovmDwzOrQ"
      }
    },
    {
      "cell_type": "code",
      "source": [
        "stats.norm.cdf(182, loc=174, scale=8)-stats.norm.cdf(166, loc=174, scale=8)"
      ],
      "metadata": {
        "colab": {
          "base_uri": "https://localhost:8080/"
        },
        "id": "_-wgz1BuuRql",
        "outputId": "cc08be0f-4380-44b8-98aa-311dcab6dd24"
      },
      "execution_count": 5,
      "outputs": [
        {
          "output_type": "execute_result",
          "data": {
            "text/plain": [
              "0.6826894921370859"
            ]
          },
          "metadata": {},
          "execution_count": 5
        }
      ]
    },
    {
      "cell_type": "markdown",
      "source": [
        "5 от 158 см до 190 см?\n",
        "\n",
        "F(x)~N(174,64)\n",
        "\n",
        "F(x<190)-F(x<158)\n",
        "\n",
        "z1=(x-m)/q = (190-174)/8= 2\n",
        "\n",
        "z2=(x-m)/q = (158-174)/8= -2\n",
        "\n",
        "F(x<190)-F(x<158)= 0,97725-0,02275=0,9545\n",
        "\n",
        "верно"
      ],
      "metadata": {
        "id": "u6EwMeAMzjsw"
      }
    },
    {
      "cell_type": "code",
      "source": [
        "stats.norm.cdf(190, loc=174, scale=8)-stats.norm.cdf(158, loc=174, scale=8)"
      ],
      "metadata": {
        "colab": {
          "base_uri": "https://localhost:8080/"
        },
        "id": "6BNhDhLvuWt-",
        "outputId": "81469c33-8fa5-404b-c4c9-79bd5a97c9cd"
      },
      "execution_count": 6,
      "outputs": [
        {
          "output_type": "execute_result",
          "data": {
            "text/plain": [
              "0.9544997361036416"
            ]
          },
          "metadata": {},
          "execution_count": 6
        }
      ]
    },
    {
      "cell_type": "markdown",
      "source": [
        "6 не выше 150 см или не ниже 190 см?\n",
        "\n",
        "F(x)~N(174,64)\n",
        "\n",
        "F(x<150)+(1-F(x<190))\n",
        "\n",
        "z1=(x-m)/q = (150-174)/8= -3\n",
        "\n",
        "z2=(x-m)/q = (190-174)/8= 2\n",
        "\n",
        "F(x<150)+(1-F(x<190))= 0,00135+(1-0,97725)=0,0241\n",
        "\n",
        "верно"
      ],
      "metadata": {
        "id": "o0BnbINq0Jt1"
      }
    },
    {
      "cell_type": "code",
      "source": [
        "stats.norm.cdf(150, loc=174, scale=8)+(1-stats.norm.cdf(190, loc=174, scale=8))"
      ],
      "metadata": {
        "colab": {
          "base_uri": "https://localhost:8080/"
        },
        "id": "ygO8SQJiuhCE",
        "outputId": "3887448f-1aba-4507-e6b3-fccebbfd2f9b"
      },
      "execution_count": 7,
      "outputs": [
        {
          "output_type": "execute_result",
          "data": {
            "text/plain": [
              "0.0241000299798093"
            ]
          },
          "metadata": {},
          "execution_count": 7
        }
      ]
    },
    {
      "cell_type": "markdown",
      "source": [
        "7 не выше 150 см или не ниже 198 см?\n",
        "\n",
        "F(x)~N(174,64)\n",
        "\n",
        "F(x<150)+(1-F(x<198))\n",
        "\n",
        "z1=(x-m)/q = (150-174)/8= -3\n",
        "\n",
        "z2=(x-m)/q = (198-174)/8= 3\n",
        "\n",
        "F(x<150)+(1-F(x<198))= 0,00135+(1-0,99865)=0,0027\n",
        "\n",
        "верно"
      ],
      "metadata": {
        "id": "xSBZBYdU2mUP"
      }
    },
    {
      "cell_type": "code",
      "source": [
        "stats.norm.cdf(150, loc=174, scale=8)+(1-stats.norm.cdf(198, loc=174, scale=8))"
      ],
      "metadata": {
        "colab": {
          "base_uri": "https://localhost:8080/"
        },
        "id": "Fo9MOcafu7An",
        "outputId": "c3616c6f-a5af-4b02-f40b-025586636610"
      },
      "execution_count": 8,
      "outputs": [
        {
          "output_type": "execute_result",
          "data": {
            "text/plain": [
              "0.0026997960632601965"
            ]
          },
          "metadata": {},
          "execution_count": 8
        }
      ]
    },
    {
      "cell_type": "markdown",
      "source": [
        "8 ниже 166 см?\n",
        "\n",
        "F(x<166)\n",
        "\n",
        "z=(x-m)/q = (166-174)/8= -1\n",
        "\n",
        "F(x<166)= 0,15866\n",
        "\n",
        "верно"
      ],
      "metadata": {
        "id": "ecC8hwbT2-XS"
      }
    },
    {
      "cell_type": "code",
      "source": [
        "stats.norm.cdf(166, loc=174, scale=8)"
      ],
      "metadata": {
        "colab": {
          "base_uri": "https://localhost:8080/"
        },
        "id": "z9Xxrg_9vOMv",
        "outputId": "c69c5085-3b51-4c35-9feb-cfb271ac8a34"
      },
      "execution_count": 9,
      "outputs": [
        {
          "output_type": "execute_result",
          "data": {
            "text/plain": [
              "0.15865525393145707"
            ]
          },
          "metadata": {},
          "execution_count": 9
        }
      ]
    },
    {
      "cell_type": "markdown",
      "source": [
        "**Задача 5.** На сколько сигм (средних квадратичных отклонений) отклоняется рост человека,\n",
        "равный 190 см, от\n",
        "математического ожидания роста в популяции, в которой M(X) = 178 см и D(X) = 25 кв.см?"
      ],
      "metadata": {
        "id": "ZLJgJerdsXV2"
      }
    },
    {
      "cell_type": "code",
      "source": [],
      "metadata": {
        "id": "9Ns10vJ1sYs2"
      },
      "execution_count": null,
      "outputs": []
    }
  ]
}